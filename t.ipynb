{
 "cells": [
  {
   "cell_type": "code",
   "execution_count": null,
   "id": "1b5083ef",
   "metadata": {},
   "outputs": [
    {
     "name": "stdout",
     "output_type": "stream",
     "text": [
      "[INFO] Using device: cuda\n",
      "GPU: NVIDIA GeForce RTX 3060\n",
      "[INFO] Model loaded successfully.\n"
     ]
    },
    {
     "ename": "RuntimeError",
     "evalue": "The size of tensor a (10) must match the size of tensor b (8) at non-singleton dimension 1",
     "output_type": "error",
     "traceback": [
      "\u001b[31m---------------------------------------------------------------------------\u001b[39m",
      "\u001b[31mRuntimeError\u001b[39m                              Traceback (most recent call last)",
      "\u001b[36mCell\u001b[39m\u001b[36m \u001b[39m\u001b[32mIn[17]\u001b[39m\u001b[32m, line 48\u001b[39m\n\u001b[32m     45\u001b[39m boxes = boxes.cpu().numpy()\n\u001b[32m     47\u001b[39m landms = decode_landm(landms.data.squeeze(\u001b[32m0\u001b[39m), priors, cfg[\u001b[33m'\u001b[39m\u001b[33mvariance\u001b[39m\u001b[33m'\u001b[39m])\n\u001b[32m---> \u001b[39m\u001b[32m48\u001b[39m landms = \u001b[43mlandms\u001b[49m\u001b[43m \u001b[49m\u001b[43m*\u001b[49m\u001b[43m \u001b[49m\u001b[43mscale\u001b[49m\u001b[43m.\u001b[49m\u001b[43mrepeat\u001b[49m\u001b[43m(\u001b[49m\u001b[32;43m2\u001b[39;49m\u001b[43m)\u001b[49m / \u001b[32m1\u001b[39m\n\u001b[32m     49\u001b[39m landms = landms.cpu().numpy()\n\u001b[32m     51\u001b[39m conf = conf.data.squeeze(\u001b[32m0\u001b[39m).cpu().numpy()[:, \u001b[32m1\u001b[39m]\n",
      "\u001b[31mRuntimeError\u001b[39m: The size of tensor a (10) must match the size of tensor b (8) at non-singleton dimension 1"
     ]
    }
   ],
   "source": [
    "import torch\n",
    "import cv2\n",
    "import numpy as np\n",
    "from retinaface.models.retinaface import RetinaFace\n",
    "from retinaface.utils.box_utils import decode, decode_landm\n",
    "from retinaface.data import cfg_mnet\n",
    "from retinaface.layers.functions.prior_box import PriorBox\n",
    "from retinaface.utils.nms.py_cpu_nms import py_cpu_nms\n",
    "\n",
    "# Check GPU\n",
    "device = torch.device(\"cuda\" if torch.cuda.is_available() else \"cpu\")\n",
    "print(f\"[INFO] Using device: {device}\")\n",
    "if torch.cuda.is_available():\n",
    "    print(\"GPU:\", torch.cuda.get_device_name(0))\n",
    "\n",
    "# Load image\n",
    "img_path = \"test.jpg\"\n",
    "img_raw = cv2.imread(img_path, cv2.IMREAD_COLOR)\n",
    "img = np.float32(img_raw)\n",
    "img -= (104, 117, 123)\n",
    "img = img.transpose(2, 0, 1)\n",
    "img = torch.from_numpy(img).unsqueeze(0).to(device)\n",
    "\n",
    "# Model config and load\n",
    "cfg = cfg_mnet\n",
    "net = RetinaFace(cfg=cfg, phase='test')\n",
    "net = net.to(device)\n",
    "net.eval()\n",
    "\n",
    "# Load pretrained weights manually\n",
    "checkpoint = torch.load(\"retinaface_mobile025.pth\", map_location=device)\n",
    "net.load_state_dict(checkpoint)\n",
    "print(\"[INFO] Model loaded successfully.\")\n",
    "\n",
    "# Inference\n",
    "loc, conf, landms = net(img)\n",
    "\n",
    "# Decode outputs\n",
    "im_height, im_width, _ = img_raw.shape\n",
    "scale = torch.Tensor([im_width, im_height, im_width, im_height]).to(device)\n",
    "priorbox = PriorBox(cfg, image_size=(im_height, im_width))\n",
    "priors = priorbox.forward().to(device)\n",
    "boxes = decode(loc.data.squeeze(0), priors, cfg['variance'])\n",
    "boxes = boxes * scale / 1\n",
    "boxes = boxes.cpu().numpy()\n",
    "\n",
    "landms = decode_landm(landms.data.squeeze(0), priors, cfg['variance'])\n",
    "landms = landms * torch.tensor([img_raw.shape[1], img_raw.shape[0]] * 5).to(device) / 1\n",
    "landms = landms.cpu().numpy()\n",
    "\n",
    "conf = conf.data.squeeze(0).cpu().numpy()[:, 1]\n",
    "dets = np.hstack((boxes, conf[:, np.newaxis])).astype(np.float32)\n",
    "keep = py_cpu_nms(dets, 0.4)\n",
    "dets = dets[keep]\n",
    "landms = landms[keep]\n",
    "\n",
    "# Draw results\n",
    "for det, lm in zip(dets, landms):\n",
    "    if det[4] < 0.5:\n",
    "        continue\n",
    "    x1, y1, x2, y2 = map(int, det[:4])\n",
    "    cv2.rectangle(img_raw, (x1, y1), (x2, y2), (0, 255, 0), 2)\n",
    "    for i in range(5):\n",
    "        x, y = int(lm[2 * i]), int(lm[2 * i + 1])\n",
    "        cv2.circle(img_raw, (x, y), 2, (0, 0, 255), -1)\n",
    "\n",
    "# Show result\n",
    "cv2.imshow(\"RetinaFace Detection\", img_raw)\n",
    "cv2.waitKey(0)\n",
    "cv2.destroyAllWindows()\n"
   ]
  },
  {
   "cell_type": "code",
   "execution_count": null,
   "id": "79c33d2a",
   "metadata": {},
   "outputs": [],
   "source": []
  }
 ],
 "metadata": {
  "kernelspec": {
   "display_name": "ml_env",
   "language": "python",
   "name": "python3"
  },
  "language_info": {
   "codemirror_mode": {
    "name": "ipython",
    "version": 3
   },
   "file_extension": ".py",
   "mimetype": "text/x-python",
   "name": "python",
   "nbconvert_exporter": "python",
   "pygments_lexer": "ipython3",
   "version": "3.11.13"
  }
 },
 "nbformat": 4,
 "nbformat_minor": 5
}
