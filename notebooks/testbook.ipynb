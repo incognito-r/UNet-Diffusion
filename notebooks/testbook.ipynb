{
 "cells": [
  {
   "cell_type": "code",
   "execution_count": 1,
   "id": "f25fd68b",
   "metadata": {},
   "outputs": [
    {
     "name": "stdout",
     "output_type": "stream",
     "text": [
      "d:\\Projects\\Github\\Dit Diffusion\n"
     ]
    }
   ],
   "source": [
    "# change working directory\n",
    "%cd .."
   ]
  },
  {
   "cell_type": "code",
   "execution_count": 2,
   "id": "c04bb61b",
   "metadata": {},
   "outputs": [],
   "source": [
    "# import torch\n",
    "# from transformers import CLIPTokenizer, CLIPTextModel\n",
    "\n",
    "# # Set device\n",
    "# device = \"cuda\" if torch.cuda.is_available() else \"cpu\"\n",
    "\n",
    "# # Load tokenizer and text encoder\n",
    "# tokenizer = CLIPTokenizer.from_pretrained(\"openai/clip-vit-large-patch14\")\n",
    "# text_encoder = CLIPTextModel.from_pretrained(\"openai/clip-vit-large-patch14\").to(device).eval()\n",
    "\n",
    "# # Example captions\n",
    "# captions = [\n",
    "#     \"a photo of a smiling woman\",\n",
    "#     \"a man wearing sunglasses\",\n",
    "#     \"a cat sitting on a chair\",\n",
    "#     \"a painting of a futuristic city\"\n",
    "# ]\n",
    "\n",
    "# # Tokenize\n",
    "# inputs = tokenizer(captions, padding=\"max_length\", truncation=True, return_tensors=\"pt\").to(device)\n",
    "\n",
    "# # Get embeddings\n",
    "# with torch.no_grad():\n",
    "#     outputs = text_encoder(**inputs)\n",
    "#     embeddings = outputs.last_hidden_state  # shape: (B, 77, 768)\n",
    "#     pooled = outputs.pooler_output          # shape: (B, 768), can be used directly\n",
    "\n",
    "# print(\"Token Embeddings shape:\", embeddings.shape)\n",
    "# print(\"Pooled Embeddings shape:\", pooled.shape)\n"
   ]
  },
  {
   "cell_type": "code",
   "execution_count": 3,
   "id": "bbaeaa16",
   "metadata": {},
   "outputs": [],
   "source": [
    "# embeddings"
   ]
  },
  {
   "cell_type": "code",
   "execution_count": null,
   "id": "b83a2fde",
   "metadata": {},
   "outputs": [],
   "source": []
  },
  {
   "cell_type": "code",
   "execution_count": 4,
   "id": "7c2a4258",
   "metadata": {},
   "outputs": [
    {
     "name": "stderr",
     "output_type": "stream",
     "text": [
      "c:\\Users\\Incognito-R\\miniconda3\\envs\\ml_env\\Lib\\site-packages\\tqdm\\auto.py:21: TqdmWarning: IProgress not found. Please update jupyter and ipywidgets. See https://ipywidgets.readthedocs.io/en/stable/user_install.html\n",
      "  from .autonotebook import tqdm as notebook_tqdm\n"
     ]
    }
   ],
   "source": [
    "import os\n",
    "import torch\n",
    "import torch.nn.functional as F\n",
    "from tqdm import tqdm\n",
    "\n",
    "from diffusers import AutoencoderKL, DDPMScheduler, DiTTransformer2DModel\n",
    "\n",
    "from utils.ema import create_ema_model\n",
    "from utils.checkpoint import save_training_state, load_training_state\n",
    "from utils.celeba_with_caption import CelebAloader\n",
    "from utils.metrics.gpu import init_nvml, gpu_info\n",
    "from omegaconf import OmegaConf\n",
    "import lpips"
   ]
  },
  {
   "cell_type": "code",
   "execution_count": 5,
   "id": "35f3ffdc",
   "metadata": {},
   "outputs": [],
   "source": [
    "if torch.cuda.is_available():\n",
    "        torch.backends.cudnn.benchmark = True\n",
    "        torch.cuda.empty_cache()"
   ]
  },
  {
   "cell_type": "code",
   "execution_count": 6,
   "id": "a2e04ab5",
   "metadata": {},
   "outputs": [
    {
     "name": "stdout",
     "output_type": "stream",
     "text": [
      "Using device: cuda\n",
      "Mixed precision training enabled\n",
      "Configuration loaded: data:\n",
      "  path: data/CelebA-HQ/images_512\n",
      "  parquet_path: /dbfs/mnt/ds-space/Hitesh/Datasets/CelebA-HQ/parquet_files/CelebA-HQ.parquet\n",
      "  image_size: 256\n",
      "  normalize: true\n",
      "  caption_path: data/CelebA-HQ/captions.csv\n",
      "checkpoint:\n",
      "  path: Checkpoints/\n",
      "  ckpt_name: dit_diffusion_ckpt_256.pth\n",
      "  ema_ckpt_name: dit_diffusion_ema_ckpt_256.pth\n",
      "output_dir:\n",
      "  train: output/train\n",
      "  test: output/test\n",
      "training:\n",
      "  batch_size: 12\n",
      "  validation_split: 0\n",
      "  epochs: 100\n",
      "  warmup_epochs: 10\n",
      "  lr: 0.0001\n",
      "  grad_accum_steps: 2\n",
      "  use_ema: true\n",
      "  ema_beta: 0.995\n",
      "  step_start_ema: 2000\n",
      "  num_workers: 4\n",
      "sampling:\n",
      "  dir: output/samples\n",
      "  num_samples: 25\n",
      "  steps: 50\n",
      "model:\n",
      "  type: dit\n",
      "  latent_dim: 4\n",
      "  img_size: 32\n",
      "  hidden_size: 768\n",
      "  depth: 12\n",
      "  num_heads: 12\n",
      "  attn_head_dim: 64\n",
      "  patch_size: 1\n",
      "scheduler:\n",
      "  type: squaredcos_cap_v2\n",
      "  timesteps: 1000\n",
      "  beta_start: 0.0001\n",
      "  beta_end: 0.02\n",
      "logs: logs\n",
      "\n"
     ]
    }
   ],
   "source": [
    "torch.manual_seed(0)\n",
    "handle = init_nvml()\n",
    "\n",
    "device = \"cuda\" if torch.cuda.is_available() else \"cpu\"\n",
    "print(f\"Using device: {device}\")\n",
    "\n",
    "# Enable mixed precision training\n",
    "scaler = torch.amp.GradScaler('cuda') if device == \"cuda\" else None\n",
    "print(\"Mixed precision training enabled\" if scaler is not None else \"Mixed precision training disabled\")\n",
    "\n",
    "# Load configuration\n",
    "config = OmegaConf.load(\"configs/train_config_256.yaml\")\n",
    "# config = OmegaConf.load(\"configs/train_config_512.yaml\"\n",
    "print(f\"Configuration loaded: {OmegaConf.to_yaml(config)}\")"
   ]
  },
  {
   "cell_type": "code",
   "execution_count": 7,
   "id": "77566480",
   "metadata": {},
   "outputs": [
    {
     "name": "stdout",
     "output_type": "stream",
     "text": [
      "Setting up [LPIPS] perceptual loss: trunk [vgg], v[0.1], spatial [off]\n"
     ]
    },
    {
     "name": "stderr",
     "output_type": "stream",
     "text": [
      "c:\\Users\\Incognito-R\\miniconda3\\envs\\ml_env\\Lib\\site-packages\\torchvision\\models\\_utils.py:208: UserWarning: The parameter 'pretrained' is deprecated since 0.13 and may be removed in the future, please use 'weights' instead.\n",
      "  warnings.warn(\n",
      "c:\\Users\\Incognito-R\\miniconda3\\envs\\ml_env\\Lib\\site-packages\\torchvision\\models\\_utils.py:223: UserWarning: Arguments other than a weight enum or `None` for 'weights' are deprecated since 0.13 and may be removed in the future. The current behavior is equivalent to passing `weights=VGG16_Weights.IMAGENET1K_V1`. You can also use `weights=VGG16_Weights.DEFAULT` to get the most up-to-date weights.\n",
      "  warnings.warn(msg)\n"
     ]
    },
    {
     "name": "stdout",
     "output_type": "stream",
     "text": [
      "Loading model from: c:\\Users\\Incognito-R\\miniconda3\\envs\\ml_env\\Lib\\site-packages\\lpips\\weights\\v0.1\\vgg.pth\n",
      "Models, optimizers, losses initialized successfully.\n"
     ]
    }
   ],
   "source": [
    "# === Load VAE from diffusers ===\n",
    "vae = AutoencoderKL.from_pretrained(\"stabilityai/sd-vae-ft-ema\").to(device).eval()\n",
    "\n",
    "# === Load DiT from diffusers ===\n",
    "\n",
    "model = DiTTransformer2DModel(\n",
    "    in_channels=config.model.latent_dim,\n",
    "    num_attention_heads=config.model.num_heads,\n",
    "    attention_head_dim=config.model.attn_head_dim,\n",
    "    num_layers=config.model.depth,\n",
    "    sample_size=config.model.img_size // config.model.patch_size,\n",
    "    patch_size=config.model.patch_size,\n",
    ").to(device)\n",
    "\n",
    "# === Load noise scheduler from diffusers ===\n",
    "scheduler = DDPMScheduler(\n",
    "    num_train_timesteps=config.scheduler.timesteps,\n",
    "    beta_start=config.scheduler.beta_start,\n",
    "    beta_end=config.scheduler.beta_end,\n",
    "    beta_schedule=\"linear\",\n",
    ")\n",
    "\n",
    "# EMA model\n",
    "ema_model, ema = create_ema_model(model, beta=config.training.ema_beta, step_start_ema=config.training.step_start_ema)\n",
    "\n",
    "# Optimizer for DiT model\n",
    "optimizer = torch.optim.AdamW(model.parameters(), lr=config.training.lr)\n",
    "\n",
    "# losses\n",
    "MSE_LOSS_Dit = torch.nn.MSELoss()\n",
    "LPIPS_LOSS = lpips.LPIPS(net='vgg').to(device).eval()\n",
    "\n",
    "print(\"Models, optimizers, losses initialized successfully.\")"
   ]
  },
  {
   "cell_type": "code",
   "execution_count": 8,
   "id": "c5b00482",
   "metadata": {},
   "outputs": [
    {
     "name": "stdout",
     "output_type": "stream",
     "text": [
      "Dataset size: 30000 images\n"
     ]
    }
   ],
   "source": [
    "# === Load data ===\n",
    "dataloader, _ = CelebAloader(data_config=config.data, train_config=config.training)\n",
    "\n",
    "print(f\"Dataset size: {len(dataloader.dataset)} images\")\n",
    "# batch = next(iter(dataloader))"
   ]
  },
  {
   "cell_type": "code",
   "execution_count": null,
   "id": "92a38e26",
   "metadata": {},
   "outputs": [],
   "source": [
    "dataloader['image']"
   ]
  },
  {
   "cell_type": "code",
   "execution_count": null,
   "id": "0380823c",
   "metadata": {},
   "outputs": [],
   "source": [
    "for batch in dataloader:\n",
    "    print('helloe')\n",
    "    break"
   ]
  },
  {
   "cell_type": "code",
   "execution_count": null,
   "id": "6c154563",
   "metadata": {},
   "outputs": [],
   "source": [
    "print(f\"Batch shape: {batch.shape}, Device: {batch.device}\")"
   ]
  },
  {
   "cell_type": "code",
   "execution_count": null,
   "id": "f9435dfe",
   "metadata": {},
   "outputs": [],
   "source": []
  },
  {
   "cell_type": "code",
   "execution_count": 1,
   "id": "efb5944e",
   "metadata": {},
   "outputs": [
    {
     "name": "stdout",
     "output_type": "stream",
     "text": [
      "w:\\Projects\\Diffusion Model\\UNet-Diffusion\n"
     ]
    }
   ],
   "source": [
    "cd .."
   ]
  },
  {
   "cell_type": "code",
   "execution_count": null,
   "id": "a96058ab",
   "metadata": {},
   "outputs": [],
   "source": []
  },
  {
   "cell_type": "code",
   "execution_count": 6,
   "id": "895b2b51",
   "metadata": {},
   "outputs": [
    {
     "data": {
      "text/plain": [
       "{}"
      ]
     },
     "execution_count": 6,
     "metadata": {},
     "output_type": "execute_result"
    }
   ],
   "source": [
    "detector.__class__.__annotations__"
   ]
  },
  {
   "cell_type": "code",
   "execution_count": null,
   "id": "2d313b0d",
   "metadata": {},
   "outputs": [],
   "source": []
  }
 ],
 "metadata": {
  "kernelspec": {
   "display_name": "ml_env",
   "language": "python",
   "name": "python3"
  },
  "language_info": {
   "codemirror_mode": {
    "name": "ipython",
    "version": 3
   },
   "file_extension": ".py",
   "mimetype": "text/x-python",
   "name": "python",
   "nbconvert_exporter": "python",
   "pygments_lexer": "ipython3",
   "version": "3.11.13"
  }
 },
 "nbformat": 4,
 "nbformat_minor": 5
}
