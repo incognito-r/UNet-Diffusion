{
 "cells": [
  {
   "cell_type": "code",
   "execution_count": 2,
   "id": "3d864e12",
   "metadata": {},
   "outputs": [],
   "source": [
    "# %pip install --upgrade torch diffusers"
   ]
  },
  {
   "cell_type": "code",
   "execution_count": 3,
   "id": "32a837d9",
   "metadata": {},
   "outputs": [],
   "source": [
    "# !pip install -r requirements.txt"
   ]
  },
  {
   "cell_type": "code",
   "execution_count": 4,
   "id": "5235d29e",
   "metadata": {},
   "outputs": [],
   "source": [
    "# dbutils.library.restartPython()"
   ]
  },
  {
   "cell_type": "code",
   "execution_count": 5,
   "id": "8d303e85",
   "metadata": {},
   "outputs": [],
   "source": [
    "# pip uninstall diffusers"
   ]
  },
  {
   "cell_type": "code",
   "execution_count": 2,
   "id": "70a64afe",
   "metadata": {},
   "outputs": [],
   "source": [
    "from diffusers import UNet2DConditionModel"
   ]
  },
  {
   "cell_type": "code",
   "execution_count": 1,
   "id": "a325dbce",
   "metadata": {},
   "outputs": [
    {
     "name": "stderr",
     "output_type": "stream",
     "text": [
      "c:\\Users\\Incognito-R\\miniconda3\\envs\\ml_env\\Lib\\site-packages\\tqdm\\auto.py:21: TqdmWarning: IProgress not found. Please update jupyter and ipywidgets. See https://ipywidgets.readthedocs.io/en/stable/user_install.html\n",
      "  from .autonotebook import tqdm as notebook_tqdm\n"
     ]
    }
   ],
   "source": [
    "import os\n",
    "import torch\n",
    "import torch.nn.functional as F\n",
    "from tqdm import tqdm\n",
    "\n",
    "from diffusers import AutoencoderKL, DDPMScheduler, DiTTransformer2DModel\n",
    "\n",
    "from utils.ema import create_ema_model\n",
    "from utils.checkpoint import save_training_state, load_training_state\n",
    "from utils.celeba_dataset import CelebAloader\n",
    "from utils.metrics.gpu import init_nvml, gpu_info\n",
    "from omegaconf import OmegaConf\n",
    "import lpips"
   ]
  },
  {
   "cell_type": "code",
   "execution_count": 2,
   "id": "ea709f6e",
   "metadata": {},
   "outputs": [],
   "source": [
    "if torch.cuda.is_available():\n",
    "        torch.backends.cudnn.benchmark = True\n",
    "        torch.cuda.empty_cache()"
   ]
  },
  {
   "cell_type": "code",
   "execution_count": 3,
   "id": "90c3603f",
   "metadata": {},
   "outputs": [
    {
     "name": "stdout",
     "output_type": "stream",
     "text": [
      "Using device: cuda\n",
      "Mixed precision training enabled\n",
      "Configuration loaded: data:\n",
      "  path: data/CelebA-HQ/images_512\n",
      "  parquet_path: /dbfs/mnt/ds-space/Hitesh/Datasets/CelebA-HQ/parquet_files/CelebA-HQ.parquet\n",
      "  image_size: 256\n",
      "  normalize: true\n",
      "  captions: data/CelebA-HQ-Captions.csv\n",
      "checkpoint:\n",
      "  path: Checkpoints/\n",
      "  ckpt_name: dit_diffusion_ckpt_256.pth\n",
      "  ema_ckpt_name: dit_diffusion_ema_ckpt_256.pth\n",
      "output_dir:\n",
      "  train: output/train\n",
      "  test: output/test\n",
      "training:\n",
      "  batch_size: 8\n",
      "  validation_split: 0\n",
      "  epochs: 100\n",
      "  warmup_epochs: 10\n",
      "  lr: 0.0001\n",
      "  grad_accum_steps: 2\n",
      "  use_ema: true\n",
      "  ema_beta: 0.0\n",
      "  step_start_ema: 2000\n",
      "  num_workers: 4\n",
      "sampling:\n",
      "  dir: output/samples\n",
      "  num_samples: 25\n",
      "  steps: 50\n",
      "model:\n",
      "  type: dit\n",
      "  latent_dim: 4\n",
      "  img_size: 32\n",
      "  hidden_size: 768\n",
      "  depth: 12\n",
      "  num_heads: 12\n",
      "  attn_head_dim: 64\n",
      "  patch_size: 1\n",
      "scheduler:\n",
      "  type: squaredcos_cap_v2\n",
      "  timesteps: 1000\n",
      "  beta_start: 0.0001\n",
      "  beta_end: 0.02\n",
      "logs: logs\n",
      "\n"
     ]
    }
   ],
   "source": [
    "torch.manual_seed(0)\n",
    "handle = init_nvml()\n",
    "\n",
    "device = \"cuda\" if torch.cuda.is_available() else \"cpu\"\n",
    "print(f\"Using device: {device}\")\n",
    "\n",
    "# Enable mixed precision training\n",
    "scaler = torch.amp.GradScaler('cuda') if device == \"cuda\" else None\n",
    "print(\"Mixed precision training enabled\" if scaler is not None else \"Mixed precision training disabled\")\n",
    "\n",
    "# Load configuration\n",
    "config = OmegaConf.load(\"configs/train_config_256.yaml\")\n",
    "# config = OmegaConf.load(\"configs/train_config_512.yaml\"\n",
    "print(f\"Configuration loaded: {OmegaConf.to_yaml(config)}\")"
   ]
  },
  {
   "cell_type": "code",
   "execution_count": 9,
   "id": "c2c55c5d",
   "metadata": {},
   "outputs": [
    {
     "name": "stdout",
     "output_type": "stream",
     "text": [
      "Setting up [LPIPS] perceptual loss: trunk [vgg], v[0.1], spatial [off]\n"
     ]
    },
    {
     "name": "stderr",
     "output_type": "stream",
     "text": [
      "c:\\Users\\Incognito-R\\miniconda3\\envs\\ml_env\\Lib\\site-packages\\torchvision\\models\\_utils.py:208: UserWarning: The parameter 'pretrained' is deprecated since 0.13 and may be removed in the future, please use 'weights' instead.\n",
      "  warnings.warn(\n",
      "c:\\Users\\Incognito-R\\miniconda3\\envs\\ml_env\\Lib\\site-packages\\torchvision\\models\\_utils.py:223: UserWarning: Arguments other than a weight enum or `None` for 'weights' are deprecated since 0.13 and may be removed in the future. The current behavior is equivalent to passing `weights=VGG16_Weights.IMAGENET1K_V1`. You can also use `weights=VGG16_Weights.DEFAULT` to get the most up-to-date weights.\n",
      "  warnings.warn(msg)\n"
     ]
    },
    {
     "name": "stdout",
     "output_type": "stream",
     "text": [
      "Loading model from: c:\\Users\\Incognito-R\\miniconda3\\envs\\ml_env\\Lib\\site-packages\\lpips\\weights\\v0.1\\vgg.pth\n",
      "Models, optimizers, losses initialized successfully.\n"
     ]
    }
   ],
   "source": [
    "# === Load VAE from diffusers ===\n",
    "vae = AutoencoderKL.from_pretrained(\"stabilityai/sd-vae-ft-ema\").to(device).eval()\n",
    "\n",
    "# === Load DiT from diffusers ===\n",
    "\n",
    "model = DiTTransformer2DModel(\n",
    "    in_channels=config.model.latent_dim,\n",
    "    num_attention_heads=config.model.num_heads,\n",
    "    attention_head_dim=config.model.attn_head_dim,\n",
    "    num_layers=config.model.depth,\n",
    "    sample_size=config.model.img_size // config.model.patch_size,\n",
    "    patch_size=config.model.patch_size,\n",
    ").to(device)\n",
    "\n",
    "# === Load noise scheduler from diffusers ===\n",
    "scheduler = DDPMScheduler(\n",
    "    num_train_timesteps=config.scheduler.timesteps,\n",
    "    beta_start=config.scheduler.beta_start,\n",
    "    beta_end=config.scheduler.beta_end,\n",
    "    beta_schedule=\"linear\",\n",
    ")\n",
    "\n",
    "# EMA model\n",
    "ema_model, ema = create_ema_model(model, beta=config.training.ema_beta, step_start_ema=config.training.step_start_ema)\n",
    "\n",
    "# Optimizer for DiT model\n",
    "optimizer = torch.optim.AdamW(model.parameters(), lr=config.training.lr)\n",
    "\n",
    "# losses\n",
    "MSE_LOSS_Dit = torch.nn.MSELoss()\n",
    "LPIPS_LOSS = lpips.LPIPS(net='vgg').to(device).eval()\n",
    "\n",
    "print(\"Models, optimizers, losses initialized successfully.\")"
   ]
  },
  {
   "cell_type": "code",
   "execution_count": 10,
   "id": "376f6d02",
   "metadata": {},
   "outputs": [
    {
     "name": "stdout",
     "output_type": "stream",
     "text": [
      "Dataset size: 150 images\n",
      "Batch shape: torch.Size([4, 3, 256, 256]), Device: cpu\n"
     ]
    }
   ],
   "source": [
    "# === Load data ===\n",
    "dataloader, _ = CelebAloader(data_config=config.data, train_config=config.training)\n",
    "\n",
    "print(f\"Dataset size: {len(dataloader.dataset)} images\")\n",
    "batch = next(iter(dataloader))\n",
    "print(f\"Batch shape: {batch.shape}, Device: {batch.device}\")"
   ]
  },
  {
   "cell_type": "code",
   "execution_count": 11,
   "id": "39bfeabb",
   "metadata": {},
   "outputs": [
    {
     "name": "stdout",
     "output_type": "stream",
     "text": [
      "✅ Resuming from checkpoint: /dbfs/mnt/ds-space/Hitesh/Checkpoints/dit_diffusion_ckpt_256.pth\n",
      "Loaded base model and optimizer\n",
      "Resuming at epoch 1, previous loss: 3.7219\n",
      "Resuming training from epoch 1 with best loss 1.7628\n"
     ]
    }
   ],
   "source": [
    "# === Load checkpoint ===\n",
    "checkpoint_dir = config.checkpoint.path\n",
    "dit_ckpt_path = os.path.join(checkpoint_dir, config.checkpoint.ckpt_name)\n",
    "# ckpt_path = \"checkpoints/dit_diffusion_ckpt_256.pth\"\n",
    "# ema_ckpt_path = \"checkpoints/dit_diffusion_ema_ckpt_256.pth\"\n",
    "\n",
    "start_epoch, best_loss = load_training_state(dit_ckpt_path, model, optimizer, device)\n",
    "print(f\"Resuming training from epoch {start_epoch} with best loss {best_loss:.4f}\")"
   ]
  },
  {
   "cell_type": "code",
   "execution_count": 13,
   "id": "3a0df510",
   "metadata": {},
   "outputs": [
    {
     "name": "stderr",
     "output_type": "stream",
     "text": [
      "Epoch 2/100:  66%|██████▌   | 25/38 [00:09<00:05,  2.59it/s, avg_loss=0.282, mem=8923 / 12288 MiB]\n"
     ]
    },
    {
     "ename": "KeyboardInterrupt",
     "evalue": "",
     "output_type": "error",
     "traceback": [
      "\u001b[31m---------------------------------------------------------------------------\u001b[39m",
      "\u001b[31mKeyboardInterrupt\u001b[39m                         Traceback (most recent call last)",
      "\u001b[36mCell\u001b[39m\u001b[36m \u001b[39m\u001b[32mIn[13]\u001b[39m\u001b[32m, line 74\u001b[39m\n\u001b[32m     71\u001b[39m     ema.step_ema(ema_model, model)\n\u001b[32m     73\u001b[39m \u001b[38;5;66;03m# ---- Progress Tracking ----\u001b[39;00m\n\u001b[32m---> \u001b[39m\u001b[32m74\u001b[39m running_loss += \u001b[43mloss\u001b[49m\u001b[43m.\u001b[49m\u001b[43mitem\u001b[49m\u001b[43m(\u001b[49m\u001b[43m)\u001b[49m * config.training.grad_accum_steps\n\u001b[32m     75\u001b[39m avg_loss = running_loss / (batch_idx + \u001b[32m1\u001b[39m)\n\u001b[32m     77\u001b[39m \u001b[38;5;28;01mif\u001b[39;00m avg_loss < best_loss:\n",
      "\u001b[31mKeyboardInterrupt\u001b[39m: "
     ]
    }
   ],
   "source": [
    "# ===== Training Loop =====\n",
    "warmup_ep = config.training.warmup_epochs\n",
    "for epoch in range(start_epoch, config.training.epochs):\n",
    "    # ---- Memory Management ----\n",
    "    if torch.cuda.is_available():\n",
    "        torch.cuda.empty_cache()\n",
    "        torch.cuda.reset_peak_memory_stats()\n",
    "\n",
    "    model.train()\n",
    "    running_loss = 0\n",
    "\n",
    "    pbar = tqdm(enumerate(dataloader), total=len(dataloader), desc=f\"Epoch {epoch+1}/{config.training.epochs}\")\n",
    "\n",
    "    for batch_idx, images in pbar:\n",
    "        if batch_idx % config.training.grad_accum_steps == 0:\n",
    "            optimizer.zero_grad(set_to_none=True)\n",
    "\n",
    "        images = images.to(device).float()\n",
    "\n",
    "        # ---- VAE Encoding ----\n",
    "        with torch.no_grad():\n",
    "            latents = vae.encode(images).latent_dist.sample() * 0.18215\n",
    "\n",
    "        # ---- Forward Diffusion ----\n",
    "        t = torch.randint(0, scheduler.config.num_train_timesteps, (latents.size(0),), device=device)\n",
    "\n",
    "        noise = torch.randn_like(latents)\n",
    "        x_t = scheduler.add_noise(latents, noise, t)\n",
    "\n",
    "        # ---- Noise Prediction ----\n",
    "        with torch.amp.autocast('cuda', enabled=(scaler is not None)):\n",
    "            dummy_class_labels = torch.zeros(latents.shape[0], dtype=torch.long, device=device)\n",
    "            noise_pred = model(x_t, timestep=t, class_labels=dummy_class_labels).sample\n",
    "            \n",
    "            # ==== Loss Calculation ===\n",
    "            mse_loss = MSE_LOSS_Dit(noise_pred, noise) / config.training.grad_accum_steps\n",
    "\n",
    "            # -----\n",
    "            if epoch+1 < warmup_ep: # No other loss\n",
    "                lpips_loss = 0.0\n",
    "                lpips_weight = 0.0\n",
    "\n",
    "            else: # Compute LPIPS loss or other losses\n",
    "                pred_x0 = scheduler.step(noise_pred, t[0].item(), x_t).pred_original_sample\n",
    "                pred_rgb = vae.decode(pred_x0 / 0.18215).sample.clamp(-1, 1)\n",
    "\n",
    "                lpips_loss = LPIPS_LOSS(pred_rgb, images).mean()\n",
    "                \n",
    "                # gradually increase loss weights\n",
    "                if epoch+1 < 50:\n",
    "                    lpips_weight = 0.05 * (epoch+1 - warmup_ep) / (30 - warmup_ep)\n",
    "                else:\n",
    "                    lpips_weight = 0.1\n",
    "            # -----\n",
    "\n",
    "            # Total loss\n",
    "            total_loss= mse_loss + lpips_weight * lpips_loss\n",
    "            # ======================\n",
    "            \n",
    "        loss = total_loss\n",
    "\n",
    "        # ---- Backward Pass ----\n",
    "        scaler.scale(loss).backward()  \n",
    "\n",
    "        # ---- Gradient Accumulation ----\n",
    "        if (batch_idx + 1) % config.training.grad_accum_steps == 0:\n",
    "            scaler.unscale_(optimizer)\n",
    "            torch.nn.utils.clip_grad_norm_(model.parameters(), 1.0)\n",
    "            scaler.step(optimizer)\n",
    "            scaler.update()\n",
    "            ema.step_ema(ema_model, model)\n",
    "\n",
    "        # ---- Progress Tracking ----\n",
    "        running_loss += loss.item() * config.training.grad_accum_steps\n",
    "        avg_loss = running_loss / (batch_idx + 1)\n",
    "        \n",
    "        if avg_loss < best_loss:\n",
    "            best_loss = avg_loss\n",
    "    \n",
    "        pbar.set_postfix(avg_loss=avg_loss, mem=gpu_info(handle))\n",
    "\n",
    "    # ---- Checkpointing ----\n",
    "    save_training_state(\n",
    "        checkpoint_path=dit_ckpt_path,\n",
    "        epoch=epoch,\n",
    "        model=model,\n",
    "        optimizer=optimizer,\n",
    "        avg_loss=avg_loss,\n",
    "        best_loss=best_loss,\n",
    "    )\n",
    "    torch.save(ema_model.state_dict(), f\"checkpoints/ema_epoch_{epoch+1}.pth\")\n",
    "    print(f\"Epoch {epoch+1} completed. Avg Loss: {avg_loss:.4f}\")\n",
    "\n",
    "    if torch.cuda.is_available():\n",
    "        torch.cuda.empty_cache()\n",
    "\n",
    "print(\"Training Completed!\")"
   ]
  },
  {
   "cell_type": "code",
   "execution_count": null,
   "id": "46b1b96b",
   "metadata": {},
   "outputs": [],
   "source": [
    "# # ====== Testing codes ==========\n",
    "\n",
    "# wts = []\n",
    "# warmup_ep = 10\n",
    "# for epoch in range(100):\n",
    "#     # warm-up\n",
    "#     if epoch+1 < warmup_ep:\n",
    "#         lpips_loss = 0.0\n",
    "#         lpips_weight = 0.0\n",
    "\n",
    "#     else:\n",
    "#         # pred_x0 = scheduler.step(noise_pred, t[0].item(), x_t).pred_original_sample\n",
    "#         # pred_rgb = vae.decode(pred_x0 / 0.18215).sample.clamp(-1, 1)\n",
    "\n",
    "#         # Compute LPIPS loss\n",
    "#         # lpips_loss = LPIPS_LOSS(pred_rgb, images).mean()\n",
    "   \n",
    "#         if epoch+1 < 50:\n",
    "#             lpips_weight = 0.05 * (epoch+1 - warmup_ep) / (30 - warmup_ep)\n",
    "#         else:\n",
    "#             lpips_weight = 0.1\n",
    "#     wts.append(lpips_weight)\n",
    "\n",
    "#     print(f\"ep: {epoch+1}, wt: {lpips_weight}\")\n",
    "\n"
   ]
  },
  {
   "cell_type": "code",
   "execution_count": null,
   "id": "7f2e7714",
   "metadata": {},
   "outputs": [],
   "source": [
    "0.1422\n",
    "0.1440\n"
   ]
  },
  {
   "cell_type": "code",
   "execution_count": null,
   "id": "4ad4e6b5",
   "metadata": {},
   "outputs": [],
   "source": []
  }
 ],
 "metadata": {
  "kernelspec": {
   "display_name": "ml_env",
   "language": "python",
   "name": "python3"
  },
  "language_info": {
   "codemirror_mode": {
    "name": "ipython",
    "version": 3
   },
   "file_extension": ".py",
   "mimetype": "text/x-python",
   "name": "python",
   "nbconvert_exporter": "python",
   "pygments_lexer": "ipython3",
   "version": "3.11.13"
  }
 },
 "nbformat": 4,
 "nbformat_minor": 5
}
